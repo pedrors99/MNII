{
 "cells": [
  {
   "cell_type": "markdown",
   "metadata": {},
   "source": [
    "$\\textbf{Nombre:}$ Pedro Ramos Suárez."
   ]
  },
  {
   "cell_type": "markdown",
   "metadata": {},
   "source": [
    "Utilizaremos las siguientes bibliotecas:\n",
    "\n",
    "    · Numpy: Para cálculos numéricos y arrays\n",
    "    · Sympy: Para obtener fórmulas y derivadas.\n",
    "    · Pandas: Para salidas en forma de tabla.\n",
    "    · Matplotlib.pyplot: Para representar gráficas.\n",
    "    · IPython.display: Para imprimir ecuaciones por pantalla."
   ]
  },
  {
   "cell_type": "code",
   "execution_count": null,
   "metadata": {},
   "outputs": [],
   "source": [
    "import numpy as np\n",
    "import sympy as sp\n",
    "import pandas as pd\n",
    "import matplotlib.pyplot as plt\n",
    "from IPython.display import display\n",
    "\n",
    "# Opción para que imprima todas las columnas (aunque no entren en una tabla)\n",
    "pd.set_option('display.max_rows', None)\n",
    "\n",
    "# Aumentamos la precisión en las tablas\n",
    "pd.set_option(\"display.precision\", 12)"
   ]
  },
  {
   "cell_type": "markdown",
   "metadata": {},
   "source": [
    "# Ejercicio 1"
   ]
  },
  {
   "cell_type": "markdown",
   "metadata": {},
   "source": [
    "#### Obtenga mediante la fórmula de interpolación en el espacio $\\mathbb{P}_{2}$ una fórmula para aproximar f''(a) del tipo combinación de $f(a-h), f(a)$ y $f(a+h)$."
   ]
  },
  {
   "cell_type": "markdown",
   "metadata": {},
   "source": [
    "Nuestros nodos son $a-h, a$ y $a+h$. Los definimos como símbolos de sympy:"
   ]
  },
  {
   "cell_type": "code",
   "execution_count": null,
   "metadata": {},
   "outputs": [],
   "source": [
    "f = sp.Function('f')\n",
    "a,h = sp.symbols('a, h')"
   ]
  },
  {
   "cell_type": "markdown",
   "metadata": {},
   "source": [
    "Con esto, nuestros nodos y sus imágenes son:"
   ]
  },
  {
   "cell_type": "code",
   "execution_count": null,
   "metadata": {},
   "outputs": [],
   "source": [
    "x = [a-h, a, a+h]\n",
    "y = [f(x[0]), f(x[1]), f(x[2])]"
   ]
  },
  {
   "cell_type": "markdown",
   "metadata": {},
   "source": [
    "Construimos el polinomio de interpolación:"
   ]
  },
  {
   "cell_type": "code",
   "execution_count": null,
   "metadata": {},
   "outputs": [],
   "source": [
    "z = sp.Symbol('z')\n",
    "p0 = y[0]\n",
    "p1 = p0 + (z-x[0])/(x[1]-x[0])*(y[1]-y[0])\n",
    "D = sp.Symbol('D')\n",
    "p2 = p1 + (z-x[0])*(z-x[1])*D"
   ]
  },
  {
   "cell_type": "markdown",
   "metadata": {},
   "source": [
    "Resolvemos la ecuación y despejamos los valores de $D$ para obtener el polinomio:"
   ]
  },
  {
   "cell_type": "code",
   "execution_count": null,
   "metadata": {},
   "outputs": [],
   "source": [
    "D = sp.solve(p2.subs({z:x[2]})-y[2],D)[0]\n",
    "p2 = p1 + (z-x[0])*(z-x[1])*D\n",
    "display(p2)"
   ]
  },
  {
   "cell_type": "markdown",
   "metadata": {},
   "source": [
    "La aproximación para la primera derivada es:"
   ]
  },
  {
   "cell_type": "code",
   "execution_count": null,
   "metadata": {},
   "outputs": [],
   "source": [
    "sp.diff(p2,z).subs({z:a}).simplify()"
   ]
  },
  {
   "cell_type": "markdown",
   "metadata": {},
   "source": [
    "La aproximación para la segunda derivada es:"
   ]
  },
  {
   "cell_type": "code",
   "execution_count": null,
   "metadata": {},
   "outputs": [],
   "source": [
    "sp.diff(p2,z,2)"
   ]
  },
  {
   "cell_type": "markdown",
   "metadata": {},
   "source": [
    "# Ejercicio 2"
   ]
  },
  {
   "cell_type": "markdown",
   "metadata": {},
   "source": [
    "#### Con la fórmula obtenida en el ejercicio 1, halle una tabla de aproximaciones y errores de $f_{1}''(2.5)$, siendo $f_{1}(x) = x^{x}$, para $h = 10^{-i}, i = 1, ..., 5$."
   ]
  },
  {
   "cell_type": "markdown",
   "metadata": {},
   "source": [
    "Definimos la función $f_{1}$ e implementamos el método obtenido en el ejercicio anterior:"
   ]
  },
  {
   "cell_type": "code",
   "execution_count": null,
   "metadata": {},
   "outputs": [],
   "source": [
    "def f1(x):\n",
    "    return x**x\n",
    "\n",
    "def interpolatorioSegundaDerivada(a, h, f):\n",
    "    return (-2*f(a) + f(a-h) + f(a+h))/(h**2)"
   ]
  },
  {
   "cell_type": "markdown",
   "metadata": {},
   "source": [
    "Calculamos las aproximaciones para $h = 10^{-i}, i = 1,...,5$:"
   ]
  },
  {
   "cell_type": "code",
   "execution_count": null,
   "metadata": {},
   "outputs": [],
   "source": [
    "def ejercicio2():\n",
    "    iteraciones = 5\n",
    "    a = 2.5\n",
    "    \n",
    "    # Calculamos el valor exacto usando sympy\n",
    "    x = sp.symbols('x')\n",
    "    dx = sp.diff(x**x)\n",
    "    ddx = sp.diff(dx)\n",
    "    \n",
    "    valor = ddx.subs(x, a)\n",
    "    \n",
    "    # Imprimimos por pantalla\n",
    "    print('La seguna derivada de f es: ')\n",
    "    display(ddx)\n",
    "    print('y su valor en {} es {}.\\n'.format(a, valor))\n",
    "    \n",
    "    # Calculamos las aproximaciones y los errores\n",
    "    aproximaciones = [interpolatorioSegundaDerivada(a, 10**(-i), f1) for i in range(1,iteraciones+1)]\n",
    "    errores = [np.abs(aproximaciones[i] - valor) for i in range(iteraciones)]\n",
    "    \n",
    "    # Utilizamos un dataFrame de pandas para la salida en forma de tabla\n",
    "    data = np.array([['h', 'Aproximación', 'Error'],\n",
    "                   ['0.1', aproximaciones[0], errores[0]],\n",
    "                   ['0.01', aproximaciones[1], errores[1]],\n",
    "                   ['0.001', aproximaciones[2], errores[2]],\n",
    "                   ['0.0001', aproximaciones[3], errores[3]],\n",
    "                   ['0.00001', aproximaciones[4], errores[4]]])\n",
    "    \n",
    "    print(pd.DataFrame(data=data[1:,1:],index=data[1:,0],columns=data[0,1:]))\n",
    "    \n",
    "ejercicio2()"
   ]
  },
  {
   "cell_type": "markdown",
   "metadata": {},
   "source": [
    "# Ejercicio 3"
   ]
  },
  {
   "cell_type": "markdown",
   "metadata": {},
   "source": [
    "#### Sea $f_2(x)=\\frac{x^2+40}{x+\\sqrt{5x}+7}$. Calcule una tabla que recoja las derivadas de $f_2$ en $x_i=1,2,\\ldots,10$, utilizando alguna de las fórmulas de derivación numérica de primer orden obtenidas al inicio de la práctica, con $h=10^{-3}$, y muestre al mismo tiempo el error cometido en cada punto. Repita el ejercicio con la fórmula centrada obtenida para la derivada primera y, finalmente, para la obtenida en el ejercicio 1 (con respecto a la segunda derivada)."
   ]
  },
  {
   "cell_type": "markdown",
   "metadata": {},
   "source": [
    "Calculamos la fórmula de interpolación con nodos $a, a+h, a+2h$:"
   ]
  },
  {
   "cell_type": "code",
   "execution_count": null,
   "metadata": {},
   "outputs": [],
   "source": [
    "f = sp.Function('f')\n",
    "a,h = sp.symbols('a, h')\n",
    "x = [a, a+h, a+2*h]\n",
    "y = [f(x[0]), f(x[1]), f(x[2])]\n",
    "z = sp.Symbol('z')\n",
    "p0 = y[0]\n",
    "p1 = p0 + (z-x[0])/(x[1]-x[0])*(y[1]-y[0])\n",
    "D = sp.Symbol('D')\n",
    "p2 = p1 + (z-x[0])*(z-x[1])*D\n",
    "D = sp.solve(p2.subs({z:x[2]})-y[2],D)[0]\n",
    "p2 = p1 + (z-x[0])*(z-x[1])*D\n",
    "sp.diff(p2,z).subs({z:a}).simplify()"
   ]
  },
  {
   "cell_type": "markdown",
   "metadata": {},
   "source": [
    "Definimos la función $f_{2}$ e implementamos la fórmula anterior:"
   ]
  },
  {
   "cell_type": "code",
   "execution_count": null,
   "metadata": {},
   "outputs": [],
   "source": [
    "def f2(x):\n",
    "    return (x**2 + 40)/(x + np.sqrt(5*x) + 7)\n",
    "\n",
    "def interpolatorioDerivadaNoCentrada(a, h, f):\n",
    "    return (-3*f(a) + 4*f(a+h) - f(a+2*h))/(2*h)\n",
    "\n",
    "def interpolatorioDerivadaCentrada(a, h, f):\n",
    "    return (-f(a-h) + f(a+h))/(2*h)"
   ]
  },
  {
   "cell_type": "markdown",
   "metadata": {},
   "source": [
    "Con todo esto, ya podemos calcular la aproximación de la primera derivada con nodos centrados (ejercicio 1) y con los nodos no centrados (que acabamos de obtener), y de la segunda derivada con nodos centrados (ejercicio 1):"
   ]
  },
  {
   "cell_type": "code",
   "execution_count": null,
   "metadata": {},
   "outputs": [],
   "source": [
    "def ejercicio3():\n",
    "    # Calculamos el valor exacto usando sympy para el error\n",
    "    x = sp.symbols('x')\n",
    "    dx = sp.diff((x**2+40)/(x+sp.sqrt(5*x)+7))\n",
    "    \n",
    "    # Imprimimos la función:\n",
    "    print(' # Función: ')\n",
    "    display((x**2+40)/(x+sp.sqrt(5*x)+7))\n",
    "    \n",
    "    # Calculamos las derivadas\n",
    "    noCentradas = [interpolatorioDerivadaNoCentrada(i, 10**(-3), f2) for i in range(1,11)]\n",
    "    centradas = [interpolatorioDerivadaCentrada(i, 10**(-3), f2) for i in range(1,11)]\n",
    "    \n",
    "    # Calculamos los errores\n",
    "    errorNoCentradas = [np.abs(noCentradas[i-1] - dx.subs(x, i).evalf()) for i in range(1,11)]\n",
    "    errorCentradas = [np.abs(centradas[i-1] - dx.subs(x, i).evalf()) for i in range(1,11)]\n",
    "    \n",
    "    # Utilizamos un dataFrame de pandas para la salida en forma de tabla\n",
    "    data = np.array([['a', 'Valor', 'No Centrada', 'Error No Centrada','Centrada', 'Error Centrada'],\n",
    "                   ['1',  dx.subs(x, 1).evalf(),  noCentradas[0], errorNoCentradas[0], centradas[0], errorCentradas[0]],\n",
    "                   ['2',  dx.subs(x, 2).evalf(),  noCentradas[1], errorNoCentradas[1], centradas[1], errorCentradas[1]],\n",
    "                   ['3',  dx.subs(x, 3).evalf(),  noCentradas[2], errorNoCentradas[2], centradas[2], errorCentradas[2]],\n",
    "                   ['4',  dx.subs(x, 4).evalf(),  noCentradas[3], errorNoCentradas[3], centradas[3], errorCentradas[3]],\n",
    "                   ['5',  dx.subs(x, 5).evalf(),  noCentradas[4], errorNoCentradas[4], centradas[4], errorCentradas[4]],\n",
    "                   ['6',  dx.subs(x, 6).evalf(),  noCentradas[5], errorNoCentradas[5], centradas[5], errorCentradas[5]],\n",
    "                   ['7',  dx.subs(x, 7).evalf(),  noCentradas[6], errorNoCentradas[6], centradas[6], errorCentradas[6]],\n",
    "                   ['8',  dx.subs(x, 8).evalf(),  noCentradas[7], errorNoCentradas[7], centradas[7], errorCentradas[7]],\n",
    "                   ['9',  dx.subs(x, 9).evalf(),  noCentradas[8], errorNoCentradas[8], centradas[8], errorCentradas[8]],\n",
    "                   ['10', dx.subs(x, 10).evalf(), noCentradas[9], errorNoCentradas[9], centradas[9], errorCentradas[9]]])\n",
    "    \n",
    "    print(' # Primera derivada: ')\n",
    "    display(dx)\n",
    "    print(pd.DataFrame(data=data[1:,1:],index=data[1:,0],columns=data[0,1:]))\n",
    "    \n",
    "    # Calculamos la segunda derivada con la fórmula del ejercicio 1\n",
    "    ddx = sp.diff(dx)\n",
    "    segundasDerivadas = [interpolatorioSegundaDerivada(i, 10**(-3), f2) for i in range(1,11)]\n",
    "    errorSegundasDerivadas = [np.abs(segundasDerivadas[i-1] - ddx.subs(x, i).evalf()) for i in range(1,11)]\n",
    "    \n",
    "    # Utilizamos un dataFrame de pandas para la salida en forma de tabla\n",
    "    data = np.array([['a', 'Valor', 'Aproximación', 'Error'],\n",
    "                   ['1',  ddx.subs(x, 1).evalf(),  segundasDerivadas[0], errorSegundasDerivadas[0]],\n",
    "                   ['2',  ddx.subs(x, 2).evalf(),  segundasDerivadas[1], errorSegundasDerivadas[1]],\n",
    "                   ['3',  ddx.subs(x, 3).evalf(),  segundasDerivadas[2], errorSegundasDerivadas[2]],\n",
    "                   ['4',  ddx.subs(x, 4).evalf(),  segundasDerivadas[3], errorSegundasDerivadas[3]],\n",
    "                   ['5',  ddx.subs(x, 5).evalf(),  segundasDerivadas[4], errorSegundasDerivadas[4]],\n",
    "                   ['6',  ddx.subs(x, 6).evalf(),  segundasDerivadas[5], errorSegundasDerivadas[5]],\n",
    "                   ['7',  ddx.subs(x, 7).evalf(),  segundasDerivadas[6], errorSegundasDerivadas[6]],\n",
    "                   ['8',  ddx.subs(x, 8).evalf(),  segundasDerivadas[7], errorSegundasDerivadas[7]],\n",
    "                   ['9',  ddx.subs(x, 9).evalf(),  segundasDerivadas[8], errorSegundasDerivadas[8]],\n",
    "                   ['10', ddx.subs(x, 10).evalf(), segundasDerivadas[9], errorSegundasDerivadas[9]]])\n",
    "    \n",
    "    print('\\n # Segunda derivada: ')\n",
    "    display(ddx)\n",
    "    print(pd.DataFrame(data=data[1:,1:],index=data[1:,0],columns=data[0,1:]))\n",
    "    \n",
    "ejercicio3()"
   ]
  },
  {
   "cell_type": "markdown",
   "metadata": {},
   "source": [
    "# Ejercicio 4"
   ]
  },
  {
   "cell_type": "markdown",
   "metadata": {},
   "source": [
    "#### Divida el intervalo $[1,2]$ en 100 partes iguales y aplique las fórmulas del rectángulo, Simpson y trapecio compuestas para aproximar la integral en dicho intervalo de $f_1$. Compare dichos resultados."
   ]
  },
  {
   "cell_type": "markdown",
   "metadata": {},
   "source": [
    "Primero definimos métodos para representar gráficamente los métodos por pantalla:"
   ]
  },
  {
   "cell_type": "code",
   "execution_count": null,
   "metadata": {},
   "outputs": [],
   "source": [
    "def linea(z,xL,yL,xR,yR):\n",
    "    \"\"\"Línea uniendo los puntos (xL,yL) y (xR,yR)\"\"\"\n",
    "    return (z-xL)/(xR-xL)*yR+(xR-z)/(xR-xL)*yL\n",
    "\n",
    "def parabola(z,xL,yL,xM,yM,xR,yR):\n",
    "    \"\"\"Parábola uniendo los puntos (xL,yL), (xM,yM) y (xR,yR)\"\"\"\n",
    "    D1 = (yM-yL)/(xM-xL)\n",
    "    D2 = (yR-yL-(xR-xL)*D1)/((xR-xL)*(xR-xM))\n",
    "    return yL+D1*(z-xL)+D2*(z-xL)*(z-xM)"
   ]
  },
  {
   "cell_type": "markdown",
   "metadata": {},
   "source": [
    "Definimos todos los métodos (rectángulo izquierdo, rectángulo derecho, Simpson y trapecio compuestas) y la opción para representarlas:"
   ]
  },
  {
   "cell_type": "code",
   "execution_count": null,
   "metadata": {},
   "outputs": [],
   "source": [
    "def rectIzq(a, b, n, f, plot):\n",
    "    h = (b - a) / n\n",
    "    \n",
    "    if plot:\n",
    "        nx = n\n",
    "        nxx = 10 * n\n",
    "        \n",
    "        xx = np.linspace(float(a), float(b), nxx)\n",
    "        yy = f(xx)\n",
    "        \n",
    "        x = np.linspace(float(a), float(b), nx)\n",
    "        y = f(x)\n",
    "\n",
    "        fig,ax = plt.subplots(figsize=(8,8))\n",
    "        ax.plot(x[:-1], y[:-1], 'ro', markersize = 0.5)\n",
    "        ax.plot(xx, yy,'k',label = 'Función del integrando')\n",
    "        \n",
    "        for k in range(1,nx):\n",
    "            zz = np.linspace(float(x[k-1]), float(x[k]), nxx)\n",
    "            yk = [linea(z, x[k-1], y[k-1], x[k], y[k-1]) for z in zz]\n",
    "            ax.fill_between(zz, 0, yk);\n",
    "\n",
    "        ax.legend(loc=9)\n",
    "        ax.set_xlabel('$x$', fontsize=18)\n",
    "        ax.set_ylabel('$y$', fontsize=18)\n",
    "        ax.set_title('Fórmula compuesta de los rectángulos a la izquierda');\n",
    "        \n",
    "    return h * sum([f(a + i * h) for i in range(0, n)])\n",
    "\n",
    "def rectDer(a, b, n, f, plot):\n",
    "    h = (b - a) / n\n",
    "    \n",
    "    if plot:\n",
    "        nx = n\n",
    "        nxx = 10 * n\n",
    "        \n",
    "        xx = np.linspace(float(a), float(b), nxx)\n",
    "        yy = f(xx)\n",
    "        \n",
    "        x = np.linspace(float(a), float(b), nx)\n",
    "        y = f(x)\n",
    "        \n",
    "        fig,ax = plt.subplots(figsize=(8,8))\n",
    "        ax.plot(x[1:], y[1:], 'ro', markersize = 0.5)\n",
    "        ax.plot(xx, yy, 'k', label = 'Función del integrando')\n",
    "        for k in range(1,nx):\n",
    "            zz = np.linspace(float(x[k-1]), float(x[k]),nxx)\n",
    "            yk = [linea(z, x[k-1], y[k], x[k], y[k]) for z in zz]\n",
    "            ax.fill_between(zz, 0, yk);\n",
    "\n",
    "        ax.legend(loc=9)\n",
    "        ax.set_xlabel('$x$',fontsize=18)\n",
    "        ax.set_ylabel('$y$',fontsize=18)\n",
    "        ax.set_title('Fórmula compuesta de los rectángulos a la derecha');\n",
    "        \n",
    "    return h * sum([f(a + (i + 1) * h) for i in range(0, n)])\n",
    "    \n",
    "def puntoMedio(a, b, n, f, plot):\n",
    "    h = (b - a) / n\n",
    "    \n",
    "    if plot:\n",
    "        nx = n\n",
    "        nxx = 10 * n\n",
    "        \n",
    "        xx = np.linspace(float(a), float(b), nxx)\n",
    "        yy = f(xx)\n",
    "        \n",
    "        x = np.linspace(float(a), float(b), nx)\n",
    "        y = f(x)\n",
    "        \n",
    "        x0 = (x[1:] + x[:-1]) / 2\n",
    "        y0 = f(x0)\n",
    "\n",
    "        fig,ax = plt.subplots(figsize=(8,8))\n",
    "        ax.plot(x0, y0, 'ro', markersize = 0.5)\n",
    "        ax.plot(xx, yy, 'k',label = 'Función del integrando')\n",
    "        for k in range(1,nx):\n",
    "            zz = np.linspace(float(x[k-1]), float(x[k]), nxx)\n",
    "            yk = [linea(z, x[k-1], (y[k-1]+y[k])/2, x[k], (y[k-1]+y[k])/2) for z in zz]\n",
    "            ax.fill_between(zz,0,yk);\n",
    "\n",
    "        ax.legend(loc=9)\n",
    "        ax.set_xlabel('$x$',fontsize=18)\n",
    "        ax.set_ylabel('$y$',fontsize=18)\n",
    "        ax.set_title('Fórmula compuesta de los rectángulos del punto medio');\n",
    "        \n",
    "    return h * sum([f(a + (i + 1/2) * h) for i in range(0, n)])\n",
    "    \n",
    "def trapecio(a, b, n, f, plot):\n",
    "    h = (b - a) / n\n",
    "    \n",
    "    if plot:\n",
    "        nx = n\n",
    "        nxx = 10 * n\n",
    "        \n",
    "        xx = np.linspace(float(a), float(b), nxx)\n",
    "        yy = f(xx)\n",
    "        \n",
    "        x = np.linspace(float(a), float(b), nx)\n",
    "        y = f(x)\n",
    "\n",
    "        fig,ax = plt.subplots(figsize=(8,8))\n",
    "        ax.plot(x, y, 'ro', markersize = 0.5)\n",
    "        ax.plot(xx, yy, 'k', label = 'Función del integrando')\n",
    "        for k in range(1,nx):\n",
    "            zz = np.linspace(float(x[k-1]), float(x[k]), nxx)\n",
    "            yk = [linea(z, x[k-1], y[k-1], x[k], y[k]) for z in zz]\n",
    "            ax.fill_between(zz, 0, yk);\n",
    "\n",
    "        ax.legend(loc=9)\n",
    "        ax.set_xlabel('$x$',fontsize=18)\n",
    "        ax.set_ylabel('$y$',fontsize=18)\n",
    "        ax.set_title('Fórmula del trapecio compuesta');\n",
    "    \n",
    "    return h / 2 * (f(a) + 2 * sum([f(a + i * h) for i in range(1, n)]) + f(b))\n",
    "    \n",
    "def simpson(a, b, n, f, plot):\n",
    "    h = (b - a) / n\n",
    "    sum1 = sum([f(a + i * h) for i in range(2, n, 2)])\n",
    "    sum2 = sum([f(a + i * h) for i in range(1, n, 2)])\n",
    "    \n",
    "    if plot:\n",
    "        nx = 2 * n\n",
    "        nxx = 10 * nx\n",
    "        \n",
    "        xx = np.linspace(float(a), float(b), nxx + 1)\n",
    "        yy = f(xx)\n",
    "        \n",
    "        x = np.linspace(float(a), float(b), nx + 1)\n",
    "        y = f(x)\n",
    "\n",
    "        fig,ax = plt.subplots(figsize=(8,8))\n",
    "        ax.plot(x, y, 'ro', markersize = 0.5)\n",
    "        ax.plot(xx, yy, 'k', label = 'Función del integrando')\n",
    "\n",
    "        for k in range(1, n+1):\n",
    "            zz = np.linspace(float(x[2*(k-1)]), float(x[2*k]), nxx)\n",
    "            yk = [parabola(z, x[2*(k-1)], y[2*(k-1)], x[2*k-1], y[2*k-1], x[2*k], y[2*k]) for z in zz]\n",
    "            ax.fill_between(zz, 0, yk);\n",
    "\n",
    "        ax.legend(loc=9)\n",
    "        ax.set_xlabel('$x$', fontsize=18)\n",
    "        ax.set_ylabel('$y$', fontsize=18)\n",
    "        ax.set_title('Fórmula de Simpson compuesta');\n",
    "    \n",
    "    return h / 3 * (f(a) + 2 * sum1 + 4 * sum2 + f(b))"
   ]
  },
  {
   "cell_type": "markdown",
   "metadata": {},
   "source": [
    "Con todo esto, ya podemos obtener los valores de cada método y sus errores. Este ejercicio lo definimos de forma más general ya que también lo vamos a usar en el siguiente ejercicio:"
   ]
  },
  {
   "cell_type": "code",
   "execution_count": null,
   "metadata": {},
   "outputs": [],
   "source": [
    "def ejercicio4(f, a, b, integral, n, plot = False):\n",
    "    # Calculamos los valores\n",
    "    valorRectIzq = rectIzq(a, b, n, f, plot)\n",
    "    valorRectDer = rectDer(a, b, n, f, plot)\n",
    "    valorPuntoMedio = puntoMedio(a, b, n, f, plot)\n",
    "    valorTrapecio = trapecio(a, b, n, f, plot)\n",
    "    valorSimpson = simpson(a, b, n, f, plot)\n",
    "        \n",
    "    # Utilizamos un dataFrame de pandas para la salida en forma de tabla\n",
    "    data = np.array([['', 'Valor', 'Error'],\n",
    "                   ['Rectángulo izquierda',  valorRectIzq, np.abs(valorRectIzq - integral.evalf())],\n",
    "                   ['Rectángulo derecha',  valorRectDer, np.abs(valorRectDer - integral.evalf())],\n",
    "                   ['Punto medio',  valorPuntoMedio, np.abs(valorPuntoMedio - integral.evalf())],\n",
    "                   ['Trapecio',  valorTrapecio, np.abs(valorTrapecio - integral.evalf())],\n",
    "                   ['Simpson',  valorSimpson, np.abs(valorSimpson - integral.evalf())]])\n",
    "    \n",
    "    print(pd.DataFrame(data=data[1:,1:],index=data[1:,0],columns=data[0,1:]))\n",
    "    \n",
    "a = 1\n",
    "b = 2\n",
    "x = sp.symbols('x', positive=True)\n",
    "integral = sp.Integral(x**x, (x, a, b))\n",
    "ejercicio4(f1, a, b, integral, 100, True)"
   ]
  },
  {
   "cell_type": "markdown",
   "metadata": {},
   "source": [
    "# Ejercicio 5"
   ]
  },
  {
   "cell_type": "markdown",
   "metadata": {},
   "source": [
    "#### Repita el ejercicio 4 para $f_2$. "
   ]
  },
  {
   "cell_type": "markdown",
   "metadata": {},
   "source": [
    "Utilizamos todos las funciones definidas en el ejercicio anterior con la función $f_{2}$:"
   ]
  },
  {
   "cell_type": "code",
   "execution_count": null,
   "metadata": {},
   "outputs": [],
   "source": [
    "a = 1\n",
    "b = 2\n",
    "x = sp.symbols('x', positive=True)\n",
    "integral = sp.Integral((x**2+40)/(x+sp.sqrt(5*x)+7), (x, a, b))\n",
    "ejercicio4(f2, a, b, integral, 100, True)"
   ]
  },
  {
   "cell_type": "markdown",
   "metadata": {},
   "source": [
    "# Ejercicio 6"
   ]
  },
  {
   "cell_type": "markdown",
   "metadata": {},
   "source": [
    "#### Sea $f_3(x)=x^{15} e^x$ en $[0,2]$. Vamos a dividir el intervalo en $10\\times 2^n$ subintervalos, es decir, $10,\\,20,\\,40,\\, 80,\\ldots $ y a aplicar la fórmula de Simpson compuesta hasta que la diferencia entre dos aproximaciones consecutivas (por ejemplo, podrían ser con $20$ y $40$ subintervalos) sea menor que $10^{-2}$, dando en tal caso por buena la última aproximación obtenida. Programe y calcule dicha aproximación. Compare ambas aproximaciones con el valor exacto."
   ]
  },
  {
   "cell_type": "markdown",
   "metadata": {},
   "source": [
    "Definimos la nueva función $f_{3}$:"
   ]
  },
  {
   "cell_type": "code",
   "execution_count": null,
   "metadata": {},
   "outputs": [],
   "source": [
    "def f3(x):\n",
    "    return x**15 * np.exp(x)"
   ]
  },
  {
   "cell_type": "markdown",
   "metadata": {},
   "source": [
    "Calculamos los valores de todas las iteraciones hasta que el error sea menor que $10^{-2}$ y sus errores:"
   ]
  },
  {
   "cell_type": "code",
   "execution_count": null,
   "metadata": {},
   "outputs": [],
   "source": [
    "def ejercicio6():\n",
    "    i = 0\n",
    "    \n",
    "    a = 0\n",
    "    b = 2\n",
    "    \n",
    "    x = sp.symbols('x', positive=True)\n",
    "    integral = sp.Integral(x**15 * sp.exp(x), (x, a, b))\n",
    "    \n",
    "    continuar = True\n",
    "    value = np.inf\n",
    "    \n",
    "    data = np.array(['Puntos', 'Valor', 'Error', 'Diferencia con iteración anterior'])\n",
    "    \n",
    "    while continuar:\n",
    "        oldValue = value\n",
    "        n = 10 * 2 ** i\n",
    "        value = simpson(a, b, n, f3, False)\n",
    "        \n",
    "        # Si la diferencia entre dos iteraciones es menor que 0.01, hemos terminado\n",
    "        if np.abs(value - oldValue) < 10**(-2):\n",
    "            continuar = False\n",
    "            \n",
    "        i += 1\n",
    "        \n",
    "        data = np.vstack((data, np.array([n, value, np.abs(value - integral.evalf()), np.abs(value - oldValue)])))\n",
    "          \n",
    "    print(pd.DataFrame(data=data[1:,1:],index=data[1:,0],columns=data[0,1:]))\n",
    "        \n",
    "ejercicio6()"
   ]
  },
  {
   "cell_type": "markdown",
   "metadata": {},
   "source": [
    "# Ejercicio 7"
   ]
  },
  {
   "cell_type": "markdown",
   "metadata": {},
   "source": [
    "#### Calcule las fórmulas gaussianas con $2$ y $3$ nodos,en el intervalo $[-1,1]$, siendo la función peso el valor absoluto de la variable. Aplíquelas para aproximar la función $x\\; e^x$ en $[-1,1]$ y compare los resultados con el valor exacto (organizando los cálculos de forma adecuada)."
   ]
  },
  {
   "cell_type": "markdown",
   "metadata": {},
   "source": [
    "Definimos la nueva función $f_{4}$ y el método de la gaussiana:"
   ]
  },
  {
   "cell_type": "code",
   "execution_count": null,
   "metadata": {},
   "outputs": [],
   "source": [
    "def f4(x):\n",
    "    return x * sp.exp(x)\n",
    "\n",
    "def gaussiana(n, a, b, f):\n",
    "    grexact = 2*n-1\n",
    "    \n",
    "    p = sp.symbols('p1:'+ str(n+1)) # Generamos una tupla de n nodos\n",
    "    nodos1 = list(p)\n",
    "    \n",
    "    c = sp.symbols('c1:'+ str(n+1)) # Generamos una tupla de n coeficientes\n",
    "    coefs1 = list(c)\n",
    "    \n",
    "    incogs1 = coefs1 + nodos1\n",
    "    \n",
    "    ecs1 = [np.dot([(z**i).subs({z:nodos1[j]}) for j in range(n)],coefs1)-sp.Rational(b**(i+1)-a**(i+1),(i+1)) for i in range(grexact+1)]\n",
    "    solsGauss1 = sp.solve(ecs1,incogs1)\n",
    "    \n",
    "    for i in range(n):  # Y así le asignaríamos a los coeficientes las soluciones obtenidas \n",
    "        coefs1[i] = solsGauss1[0][i]\n",
    "    for i in range(n):  # Y así le asignaríamos a los nodos las soluciones obtenidas\n",
    "        nodos1[i] = solsGauss1[0][n+i]\n",
    "        \n",
    "    # Aquí realizamos un simple producto escalar multiplicando término a término los valores de los coeficientes por\n",
    "    # la evaluación de la función evaluada en los nodos obtenidos y sumando posteriormente esos términos obtenidos.    \n",
    "    formGauss1 = np.dot([f(nodos1[i]) for i in range(n)],coefs1)\n",
    "        \n",
    "    return(formGauss1)"
   ]
  },
  {
   "cell_type": "markdown",
   "metadata": {},
   "source": [
    "Calculamos los valores obtenidos con el método de la gaussiana con 2 y 3 nodos:"
   ]
  },
  {
   "cell_type": "code",
   "execution_count": null,
   "metadata": {},
   "outputs": [],
   "source": [
    "def ejercicio7():\n",
    "    a = -1\n",
    "    b = 1\n",
    "    \n",
    "    # Calculamos el valor real de la integral:\n",
    "    valor = sp.integrate(x * sp.exp(x), (x, -1, 1))\n",
    "    \n",
    "    # Con 2 nodos:\n",
    "    nodos2 = gaussiana(2, a, b, f)\n",
    "    nodos2f = gaussiana(2, a, b, f4)\n",
    "    \n",
    "    print('Con 2 nodos:')\n",
    "    display(nodos2)\n",
    "    print('En el caso de:')\n",
    "    display(f4(x))\n",
    "    print('tenemos:')\n",
    "    display(nodos2f)\n",
    "    print('y obtenemos de valor: {}, y el error es: {}.'.format(nodos2f.evalf(), np.abs(nodos2f.evalf() - valor.evalf())))\n",
    "    \n",
    "    print('\\n -=-=-=-=-=-=-=-=-=-=-=-=-=-=-=-=-=-=-=- \\n')\n",
    "    \n",
    "    # Con 3 nodos:\n",
    "    nodos3 = gaussiana(3, a, b, f)\n",
    "    nodos3f = gaussiana(3, a, b, f4)\n",
    "    \n",
    "    print('Con 3 nodos:')\n",
    "    display(nodos3)\n",
    "    print('En el caso de:')\n",
    "    display(f4(x))\n",
    "    print('tenemos:')\n",
    "    display(nodos3f)\n",
    "    print('y obtenemos de valor: {}, y el error es: {}.'.format(nodos3f.evalf(), np.abs(nodos3f.evalf() - valor.evalf())))\n",
    "    \n",
    "ejercicio7()"
   ]
  },
  {
   "cell_type": "markdown",
   "metadata": {},
   "source": [
    "# Ejercicio 8"
   ]
  },
  {
   "cell_type": "markdown",
   "metadata": {},
   "source": [
    "#### Programar las técnicas de integración de Romberg y adaptativa, para después aplicarlas a la aproximación de la siguiente integral $$\\int_a^b p(x)\\, dx$$ siendo  $\\;a=\\displaystyle\\min_{0\\leq i\\leq 7}{d_i}$, $\\;b=\\displaystyle\\max_{0\\leq i\\leq 7}{d_i}$ y  $$p(x)=d_0 + d_1 x + d_2 x^2 + d_3 x^3+ d_4 x^4 + d_5 x^5 + d_6 x^6 + d_7 x^7 $$ (siendo $d_0, d_1, \\ldots, d_7$ los dígitos de su DNI, pasaporte o tarjeta de residente)."
   ]
  },
  {
   "cell_type": "markdown",
   "metadata": {},
   "source": [
    "Como mi DNI es 76591270M, tenemos:\n",
    "$$p(x) = 7 + 6x + 5x^{2} + 9x^{3} + 1x^{4} + 2x^{5} + 7x^{6} + 0x^{7} = 7 + 6x + 5x^{2} + 9x^{3} + x^{4} + 2x^{5} + 7x^{6}$$\n",
    "por lo que $a = 0$ y $b = 9$.\n",
    "\n",
    "Definimos los métodos de integración de Romberg y la integral adaptativa:"
   ]
  },
  {
   "cell_type": "code",
   "execution_count": null,
   "metadata": {},
   "outputs": [],
   "source": [
    "# DNI: 76591270M\n",
    "# a = 0, b = 9\n",
    "\n",
    "def p(x):\n",
    "    return 7 + 6 * x + 5 * x ** 2 + 9 * x ** 3 + 1 * x ** 4 + 2 * x ** 5 + 7 * x ** 6 + 0 * x ** 7\n",
    "\n",
    "def romberg(a, b, n, f):\n",
    "    # Matriz con los valores obtenidos con el método de Romberg (sólo el triángulo inferior)\n",
    "    R = np.zeros((n, n))\n",
    "    \n",
    "    for j in range(n):\n",
    "        for k in range(j+1):\n",
    "            # Los valores R[j,0] los cálculamos directamente del método del trapecio\n",
    "            if k == 0:\n",
    "                R[j,k] = trapecio(a, b, 2**j, f, False)\n",
    "            # Los demás valores los calculamos a partir de iteraciones anteriores\n",
    "            else:\n",
    "                num = 4 ** k * R[j, k-1] - R[j-1, k-1]\n",
    "                den = 4 ** k - 1\n",
    "                R[j,k] = num/den\n",
    "            \n",
    "    return(R[n-1, n-1])\n",
    "\n",
    "# Definimos S(a, b) usada en la integración adaptativa\n",
    "def s(a, b, f):\n",
    "    h = (b - a) / 2\n",
    "    m = (a + b) / 2\n",
    "    return h / 3 * (f(a) + 4 * f(m) + f(b))\n",
    "    \n",
    "def adaptativa(a, b, f, epsilon, i):\n",
    "    h = (b - a) / 2\n",
    "    m = (a + b) / 2\n",
    "    \n",
    "    # Valores de las dos integrales\n",
    "    valor1 = s(a, m, f)\n",
    "    valor2 = s(m, b, f)\n",
    "    \n",
    "    # Si el error es mayor que epsilon, dividimos el intervalo y repetimos el algoritmo\n",
    "    if not np.abs(s(a,b,f) - valor1 - valor2) < 10 * epsilon:\n",
    "        valor1 = adaptativa(a, m, f, epsilon/2, i+1)\n",
    "        valor2 = adaptativa(m, b, f, epsilon/2, i+1)\n",
    "        \n",
    "    return valor1 + valor2"
   ]
  },
  {
   "cell_type": "markdown",
   "metadata": {},
   "source": [
    "Y los aplicamos a nuestra función:"
   ]
  },
  {
   "cell_type": "code",
   "execution_count": null,
   "metadata": {},
   "outputs": [],
   "source": [
    "def ejercicio8():\n",
    "    a = 0\n",
    "    b = 9\n",
    "    \n",
    "    # Calculamos el valor real de la integral\n",
    "    x = sp.symbols('x')\n",
    "    valor = sp.integrate(7 + 6 * x + 5 * x ** 2 + 9 * x ** 3 + 1 * x ** 4 + 2 * x ** 5 + 7 * x ** 6, (x, a, b))\n",
    "    \n",
    "    # Calculamos los valores obtenidos por los métodos\n",
    "    valorRomberg = romberg(a, b, 10, p)\n",
    "    valorAdaptativa = adaptativa(a, b, p, 10**(-5), 0)\n",
    "    \n",
    "    # Imprimimos los resultados por pantalla\n",
    "    print('Valor real de la integral: {}.'.format(valor.evalf()))\n",
    "    print('Con la integración de Romberg obtenemos: {}, y de error: {}.'.format(valorRomberg, np.abs(valorRomberg - valor)))\n",
    "    print('Col la integral adaptativa obtenemos: {}, y de error: {}.'.format(valorAdaptativa, np.abs(valorAdaptativa - valor)))\n",
    "    \n",
    "ejercicio8()"
   ]
  },
  {
   "cell_type": "code",
   "execution_count": null,
   "metadata": {},
   "outputs": [],
   "source": []
  }
 ],
 "metadata": {
  "kernelspec": {
   "display_name": "Python 3",
   "language": "python",
   "name": "python3"
  },
  "language_info": {
   "codemirror_mode": {
    "name": "ipython",
    "version": 3
   },
   "file_extension": ".py",
   "mimetype": "text/x-python",
   "name": "python",
   "nbconvert_exporter": "python",
   "pygments_lexer": "ipython3",
   "version": "3.8.5"
  }
 },
 "nbformat": 4,
 "nbformat_minor": 4
}
