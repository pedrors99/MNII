{
 "cells": [
  {
   "cell_type": "markdown",
   "metadata": {},
   "source": [
    "Nombre: Pedro Ramos Suárez"
   ]
  },
  {
   "cell_type": "markdown",
   "metadata": {},
   "source": [
    "# Ejercicios Tema 1"
   ]
  },
  {
   "cell_type": "markdown",
   "metadata": {},
   "source": [
    "En la mayoría de ejercicios usaré únicamente numpy (en lugar de simpy), ya que tengo más experiencia con dicha biblioteca. También usaré pandas para representar los datos como una tabla, y matplotlib.pyplot para las gráficas."
   ]
  },
  {
   "cell_type": "code",
   "execution_count": null,
   "metadata": {},
   "outputs": [],
   "source": [
    "import numpy as np\n",
    "import pandas as pd\n",
    "import matplotlib.pyplot as plt\n",
    "\n",
    "pd.set_option('display.max_rows', None)"
   ]
  },
  {
   "cell_type": "code",
   "execution_count": null,
   "metadata": {},
   "outputs": [],
   "source": [
    "# Función temporal para tener una f por defecto para la siguiente función (plotGraph)\n",
    "def f(x):\n",
    "    return(x)\n",
    "\n",
    "# Función para representar gráficas\n",
    "def plotGraph(x = [0,0], points = 1, f = f, label = 'f(x)', axis = True, xLim = [0,0], yLim = [0,0] , point = False, p = 0):\n",
    "    \"\"\"\n",
    "        x: Dominio de la función (Array con 2 puntos)\n",
    "        points: Número de puntos a representar\n",
    "        f: Función a representar\n",
    "        label: Etiquete de la función\n",
    "        axis: Booleana para representar los ejes\n",
    "        xLim: Array con los límites del eje X\n",
    "        yLim: Array con los límites del eje Y\n",
    "        pint: Booleana para representar el punto p\n",
    "        p: Coordenada X del punto\n",
    "    \"\"\"\n",
    "    x = np.linspace(x[0], x[1], points)\n",
    "    y = f(x)\n",
    "    plt.plot(x, y, label=label)\n",
    "    \n",
    "    if axis:\n",
    "        plt.axhline(y=0, color='k')\n",
    "        plt.axvline(x=0, color='k')\n",
    "        \n",
    "    if xLim != [0,0]:\n",
    "        plt.xlim(xLim[0], xLim[1])\n",
    "        \n",
    "    if yLim != [0,0]:\n",
    "        plt.ylim(yLim[0], yLim[1])\n",
    "        \n",
    "    if point:\n",
    "        plt.plot(p, f(p), 'r*')\n",
    "        \n",
    "    plt.legend()\n",
    "    plt.show()"
   ]
  },
  {
   "cell_type": "markdown",
   "metadata": {},
   "source": [
    "## Ejercicio 1"
   ]
  },
  {
   "cell_type": "markdown",
   "metadata": {},
   "source": [
    "#### Demuestre que la ecuación  $x^3+4 x^2=10  $  tiene una única raíz en el intervalo $[1,2]$.  Aproxime dicha raíz con el método de bisección con al menos 3 cifras decimales exactas. ¿Cuántas iteraciones serán necesarias para conseguir 5 cifras decimales exactas (tol =$10^{-5}$)?  Aproxime también la raíz con el método de Newton-Raphson partiendo del extremo adecuado hasta que la diferencia en valor absoluto, entre dos aproximaciones consecutivas sea  inferior a  $10^{-3}$."
   ]
  },
  {
   "cell_type": "markdown",
   "metadata": {},
   "source": [
    "Sea $f(x) = x^{3}+4x^{2}-10$. Entonces $x^{3}+4x^{2}=10$ tiene una raíz en $[1,2]$ si $\\exists x_{0} \\in [1,0]$ tal que $f(x_{0}) = 0$.\n",
    "\n",
    "Como $f(1) = 1^{3}+4*1^{2}-10 = 1+4-10 = -5 < 0$ y $f(2) = 2^{3}+4*2^{2}-10 = 8+16-10 = 14 > 0$, por el Teorema de Bolzano sabemos que $\\exists x_{0} \\in ]1,2[$ tal que $f(x_{0}) = 0$.\n",
    "\n",
    "Nos queda ver que es único. Para ello estudiamos su derivada $f'(x) = 3x^{2}+8x$ y $f'(x) > 0$ $\\forall x \\in [1,2]$, es decir, la función es estrictamente creciente en $[1,2]$, por lo que no hay dos puntos $x_{1}, x_{2} \\in [1,2], x_{1} \\neq x_{2}$ tal que $f(x_{1}) = f(x_{2})$, así que la raíz es única.\n"
   ]
  },
  {
   "cell_type": "code",
   "execution_count": null,
   "metadata": {},
   "outputs": [],
   "source": [
    "# Función\n",
    "def f1(x):\n",
    "    return x**3 + 4*x**2 - 10\n",
    "\n",
    "# Método de bisección\n",
    "def biseccion(a, b, f, maxIter, tol):\n",
    "    i = 0\n",
    "    m = (a+b)/2\n",
    "    \n",
    "    data = np.array([[i, a, b, np.abs(f(m))]])\n",
    "    \n",
    "    while i < maxIter and np.abs(f(m)) > tol:\n",
    "        m = (a+b)/2\n",
    "        \n",
    "        if f(a)*f(m) < 0:\n",
    "            b = m\n",
    "        elif f(b)*f(m) < 0:\n",
    "            a = m\n",
    "        \n",
    "        data = np.insert(data, i+1, [i+1, a, b, np.abs(f(m))], axis=0)\n",
    "        \n",
    "        i += 1\n",
    "        \n",
    "    df = pd.DataFrame(data, columns = ['Iteración','a','b', 'Error'])\n",
    "    print(df.to_string(index=False))\n",
    "    return m, i\n",
    "\n",
    "# Representamos la función.\n",
    "plotGraph([1,2], 50, f1)"
   ]
  },
  {
   "cell_type": "markdown",
   "metadata": {},
   "source": [
    "Para alcanzar 3 cifras decimales exactas, necesitamos que el error sea menor que $10^{-3}$, por lo que:"
   ]
  },
  {
   "cell_type": "code",
   "execution_count": null,
   "metadata": {},
   "outputs": [],
   "source": [
    "a = 1\n",
    "b = 2\n",
    "maxIter = np.inf\n",
    "tol = 10e-3\n",
    "\n",
    "m, i = biseccion(a, b, f1, maxIter, tol)\n",
    "print(\"\\nEn el punto: \" + str(m) + \" alcanzado en la iteración \" + str(i) + \" tenemos de error \" + str(np.abs(f1(m))) + '.')\n",
    "\n",
    "# Representamos la función y el punto obtenido.\n",
    "plotGraph([a,b], 50, f1, xLim = [1.3, 1.4], yLim=[-0.1, 0.1], point=True, p=m)"
   ]
  },
  {
   "cell_type": "markdown",
   "metadata": {},
   "source": [
    "Por lo que necesitamos 9 iteraciones.\n",
    "\n",
    "Para alcanzar 5 cifras decimales excatas, necesitamos que el error sea menor que $10^{-5}$, por lo que:"
   ]
  },
  {
   "cell_type": "code",
   "execution_count": null,
   "metadata": {},
   "outputs": [],
   "source": [
    "tol = 10e-5\n",
    "\n",
    "m, i = biseccion(a, b, f1, maxIter, tol)\n",
    "print(\"\\nEn el punto: \" + str(m) + \" alcanzado en la iteración \" + str(i) + \" tenemos de error \" + str(np.abs(f1(m))) + '.')\n",
    "\n",
    "# Representamos la función y el punto obtenido.\n",
    "plotGraph([a,b], 50, f1, xLim = [1.3, 1.4], yLim=[-0.1, 0.1], point=True, p=m)"
   ]
  },
  {
   "cell_type": "markdown",
   "metadata": {},
   "source": [
    "Por lo que igualmente necesitamos 9 iteraciones.\n",
    "\n",
    "Para Newton-Raphson, como $f''(x) = 6x + 8$, tenemos que $f''(x) = 0 \\iff 6x + 8 = 0 \\iff x = -\\frac{4}{3} \\notin [1,2]$, por lo que no cambia de signo en el intervalo.\n",
    "\n",
    "Como: \n",
    "\n",
    "$f(1) = -6$ \n",
    "\n",
    "$f(2) = 14$\n",
    "\n",
    "$f''(1) = 14$\n",
    "\n",
    "$f''(2)' = 20$\n",
    "\n",
    "$f(1)f''(1) < 0$\n",
    "\n",
    "$f(2)f''(2) > 0$\n",
    "\n",
    "Por lo que tomamos como $x_{0}$ a 2."
   ]
  },
  {
   "cell_type": "code",
   "execution_count": null,
   "metadata": {},
   "outputs": [],
   "source": [
    "# Derivada de f\n",
    "def df1dx(x):\n",
    "    return 3*x**2+8*x\n",
    "    \n",
    "# Método de Newton-Raphson\n",
    "def newtonRaphson(x, f, dfdx, maxIter, difIter):\n",
    "    data = np.array([[0, x, f(x), '-']])\n",
    "    \n",
    "    xOld = x\n",
    "    x -= f(x)/dfdx(x)\n",
    "    i = 1\n",
    "    \n",
    "    data = np.insert(data, i, [i, x, f(x), np.abs(f(x) - f(xOld))], axis=0)\n",
    "    \n",
    "    while i < maxIter and np.abs(f(x) - f(xOld)) > difIter:        \n",
    "        xOld = x\n",
    "        x -= f(x)/dfdx(x)\n",
    "        \n",
    "        data = np.insert(data, i+1, [i+1, x, f(x), np.abs(f(x) - f(xOld))], axis=0)\n",
    "        \n",
    "        i += 1\n",
    "        \n",
    "    df = pd.DataFrame(data, columns = ['Iteración','x', 'f(x)', 'Diferencia entre iteraciones'])\n",
    "    print(df.to_string(index=False))\n",
    "    return x, i\n",
    "\n",
    "x = 2\n",
    "maxIter = np.inf\n",
    "difIter = 10e-3\n",
    "x, i = newtonRaphson(x, f1, df1dx, maxIter, difIter)\n",
    "\n",
    "print(\"\\nEn el punto x = \" + str(x) + \" alcanzado en la iteración \" + str(i) + \" tenemos de error \" + str(np.abs(f1(x))) + '.')\n",
    "\n",
    "# Representamos la función y el punto obtenido.\n",
    "plotGraph([1,2], 50, f1, xLim = [1.3, 1.4], yLim=[-0.1, 0.1], point=True, p=x)"
   ]
  },
  {
   "cell_type": "markdown",
   "metadata": {},
   "source": [
    "Por lo que alcanzamos el punto en menos iteraciones que con el método de la bisección."
   ]
  },
  {
   "cell_type": "markdown",
   "metadata": {},
   "source": [
    "# Ejercicio 2"
   ]
  },
  {
   "cell_type": "markdown",
   "metadata": {},
   "source": [
    "#### Encuentre una aproximación de la raíz cúbica de 25 con dos decimales exactos (tol =$10^{-2}$), usando el algoritmo de bisección."
   ]
  },
  {
   "cell_type": "markdown",
   "metadata": {},
   "source": [
    "Utilizamos el método de la bisección definido en el ejercicio anterior. \n",
    "\n",
    "En este caso, queremos $x^{3} = 25$, es decir, $x^{3}-25 = 0$, por lo que $f(x) = x^{3} - 25$ y buscamos $x_{0}$ tal que $f(x_{0}) = 0$.\n",
    "\n",
    "Como $2^{3} = 8 < 25 < 27 = 3^{3}$, tomamos como intervalo inicial $[2,3]$."
   ]
  },
  {
   "cell_type": "code",
   "execution_count": null,
   "metadata": {},
   "outputs": [],
   "source": [
    "# Función f(x) = x^3 - 25\n",
    "def f2(x):\n",
    "    return x**3 - 25\n",
    "\n",
    "a = 2\n",
    "b = 3\n",
    "maxIter = np.inf\n",
    "tol = 10e-2\n",
    "\n",
    "m, i = biseccion(a, b, f2, maxIter, tol)\n",
    "print(\"\\nEn el punto: \" + str(m) + \" alcanzado en la iteración \" + str(i) + \" tenemos de error \" + str(np.abs(f2(m))) + '.')\n",
    "\n",
    "# Representamos la función y el punto obtenido.\n",
    "plotGraph([a,b], 50, f2, xLim = [2.85, 3], yLim=[-0.5, 0.5], point=True, p=m)"
   ]
  },
  {
   "cell_type": "markdown",
   "metadata": {},
   "source": [
    "## Ejercicio 3"
   ]
  },
  {
   "cell_type": "markdown",
   "metadata": {},
   "source": [
    "#### Use el método de Newton-Raphson para aproximar las soluciones de las siguientes ecuaciones con tolerancia $10^{-5}$ , partiendo de un valor adecuado, próximo a cada una de ellas en cada caso."
   ]
  },
  {
   "cell_type": "markdown",
   "metadata": {},
   "source": [
    "Para los 3 apartados usamos el método definido en el ejercicio 1."
   ]
  },
  {
   "cell_type": "markdown",
   "metadata": {},
   "source": [
    "#### i) $x^3-x-1 = 0$  en $[1,2]$."
   ]
  },
  {
   "cell_type": "markdown",
   "metadata": {},
   "source": [
    "En este caso $f(x) = x^{3}-x-1$ y buscamos $x_{0}$ tal que $f(x_{0}) = 0$.\n",
    "\n",
    "$f'(x) = 3x^{2}-1 > 0 \\Rightarrow f''(x) = 6x$.\n",
    "\n",
    "$f(1) = -1$ y $f''(1) = 6 \\Rightarrow f(1)f''(1) < 0$.\n",
    "\n",
    "$f(2) = 5$ y $f''(2) = 12 \\Rightarrow f(2)f''(2) > 0$.\n",
    "\n",
    "Por lo que tomamos a $2$ como $x_{0}$ para asegurar la convergencia."
   ]
  },
  {
   "cell_type": "code",
   "execution_count": null,
   "metadata": {},
   "outputs": [],
   "source": [
    "def f3_1(x):\n",
    "    return x**3 - x -1\n",
    "\n",
    "def df3_1dx(x):\n",
    "    return 3*x**2 - 1\n",
    "    \n",
    "x = 2\n",
    "maxIter = np.inf\n",
    "difIter = 10e-5\n",
    "x, i = newtonRaphson(x, f3_1, df3_1dx, maxIter, difIter)\n",
    "\n",
    "print(\"\\nEn el punto x = \" + str(x) + \" alcanzado en la iteración \" + str(i) + \" tenemos de error \" + str(np.abs(f3_1(x))) + '.')\n",
    "\n",
    "# Representamos la función y el punto obtenido.\n",
    "plotGraph([1,2], 50, f3_1, xLim = [1.1, 1.5], yLim=[-0.1, 0.1], point=True, p=x)"
   ]
  },
  {
   "cell_type": "markdown",
   "metadata": {},
   "source": [
    "#### ii) $3x=2+x^2-e^x$."
   ]
  },
  {
   "cell_type": "markdown",
   "metadata": {},
   "source": [
    "En este caso $f(x) = x^{2}-3x-e^{x}+2$ y buscamos $x_{0}$ tal que $f(x_{0}) = 0$.\n",
    "\n",
    "Tenemos $f'(x) = 2x-3-e^{x}$ y $f''(x) = 2 - e^{x}$. Como $f(0) = 1$ y $f''(0) = 1 \\Rightarrow f(0)f''(0) > 0$ y tenemos la convergencia asegurada."
   ]
  },
  {
   "cell_type": "code",
   "execution_count": null,
   "metadata": {},
   "outputs": [],
   "source": [
    "def f3_2(x):\n",
    "    return x**2 - 3*x - np.e**x + 2\n",
    "\n",
    "def df3_2dx(x):\n",
    "    return 2*x - 3 - np.e**x\n",
    "    \n",
    "x = 0\n",
    "maxIter = np.inf\n",
    "difIter = 10e-5\n",
    "x, i = newtonRaphson(x, f3_2, df3_2dx, maxIter, difIter)\n",
    "\n",
    "print(\"\\nEn el punto x = \" + str(x) + \" alcanzado en la iteración \" + str(i) + \" tenemos de error \" + str(np.abs(f3_2(x))) + '.')\n",
    "\n",
    "# Representamos la función y el punto obtenido.\n",
    "plotGraph([-1,1], 50, f3_2, xLim = [0, 0.5], yLim=[-0.1, 0.1], point=True, p=x)"
   ]
  },
  {
   "cell_type": "markdown",
   "metadata": {},
   "source": [
    "#### iii) $x^2+10\\, \\cos x+x=0$."
   ]
  },
  {
   "cell_type": "markdown",
   "metadata": {},
   "source": [
    "En este caso $f(x) = x^{2}+10\\cos(x)+x$ y buscamos $x_{0}$ tal que $f(x_{0}) = 0$.\n",
    "\n",
    "Tenemos $f'(x) = 2x - 10 \\sin(x) + 1$ y $f''(x) = 2 - 10\\cos(x)$, y $f(-\\pi) > 0$ y $f''(-\\pi) > 0 \\Rightarrow f(-\\pi)f''(-\\pi) > 0 \\Rightarrow$ tenemos asegurada la convergencia."
   ]
  },
  {
   "cell_type": "code",
   "execution_count": null,
   "metadata": {},
   "outputs": [],
   "source": [
    "def f3_3(x):\n",
    "    return x**2 + 10 * np.cos(x) + x\n",
    "\n",
    "def df3_3dx(x):\n",
    "    return 2+x - 10 * np.sin(x) - 1\n",
    "    \n",
    "x = -np.pi\n",
    "maxIter = np.inf\n",
    "difIter = 10e-5\n",
    "x, i = newtonRaphson(x, f3_3, df3_3dx, maxIter, difIter)\n",
    "\n",
    "print(\"\\nEn el punto x = \" + str(x) + \" alcanzado en la iteración \" + str(i) + \" tenemos de error \" + str(np.abs(f3_3(x))) + '.')\n",
    "\n",
    "# Representamos la función y el punto obtenido.\n",
    "plotGraph([-5,-3], 50, f3_3, xLim = [-3.7, -3.3], yLim=[-0.1, 0.1], point=True, p=x)"
   ]
  },
  {
   "cell_type": "markdown",
   "metadata": {},
   "source": [
    "## Ejercicio 4"
   ]
  },
  {
   "cell_type": "markdown",
   "metadata": {},
   "source": [
    "#### Para la función  $ f(x)= 3 x^2+e^x-1$, "
   ]
  },
  {
   "cell_type": "code",
   "execution_count": null,
   "metadata": {},
   "outputs": [],
   "source": [
    "def f4(x):\n",
    "    return 3 * x**2 + np.e**x - 1\n",
    "\n",
    "def df4dx(x):\n",
    "    return 6 * x + np.e**x"
   ]
  },
  {
   "cell_type": "markdown",
   "metadata": {},
   "source": [
    "#### i) Encuentre, mediante el método de bisección una aproximación de la raíz en $[0,1]$ con, al menos, cuatro decimales exactos (tol =$10^{-4}$), y determine el número de iteraciones realizadas;"
   ]
  },
  {
   "cell_type": "markdown",
   "metadata": {},
   "source": [
    "Usamos el método definido en el ejercicio 1.\n",
    "\n",
    "En este caso, $f(0) = 0$, por lo que no podemos usar el algoritmo de la bisección en $[0,1]$ (ya que, además de que no tiene sentido, ya que sirve para buscar una raíz, cosa que ya tenemos, $f(a)f(m) = 0 = f(b)f(m)$, por lo que no podemos determinar el siguiente punto). Por lo que  podemos ampliar el intervalo a, por ejemplo $[-0.1,1]$, y obtener x=0:"
   ]
  },
  {
   "cell_type": "code",
   "execution_count": null,
   "metadata": {},
   "outputs": [],
   "source": [
    "a = -0.1\n",
    "b = 1\n",
    "maxIter = 1000\n",
    "tol = 10e-4\n",
    "\n",
    "m, i = biseccion(a, b, f4, maxIter, tol)\n",
    "print(\"\\nEn el punto: \" + str(m) + \" alcanzado en la iteración \" + str(i) + \" tenemos de error \" + str(np.abs(f4(m))) + '.')\n",
    "\n",
    "# Representamos la función y el punto obtenido.\n",
    "plotGraph([a,b], 50, f4, xLim = [-0.1, 0.1], yLim=[-0.5, 0.5], point=True, p=m)"
   ]
  },
  {
   "cell_type": "markdown",
   "metadata": {},
   "source": [
    "#### ii) Encuentre, mediante el método de Newton-Raphson, una aproximación de la raíz en $[0,1]$ con una tolerancia de $10^{-4}$, partiendo de $x_0=0$, y determine el número de iteraciones realizadas.  "
   ]
  },
  {
   "cell_type": "markdown",
   "metadata": {},
   "source": [
    "Utilizamos de nuevo el método definido en el ejercicio 1.\n",
    "\n",
    "En este caso, aunque igual que antes no tiene sentido aplicar el método ya que $f(x_{0}) = 0$, al menos si podemos aplicarlo.\n",
    "\n",
    "$f(x) = 3x^{2} + e^{x} -1 \\Rightarrow f'(x) = 6x + e^{x} \\Rightarrow f''(x) = 6 + e^{x}$. Como f(0) = 0, ya hemos alcanzado el punto que buscamos, por lo que no realizará ninguna ejecución."
   ]
  },
  {
   "cell_type": "code",
   "execution_count": null,
   "metadata": {},
   "outputs": [],
   "source": [
    "x = 0\n",
    "maxIter = np.inf\n",
    "difIter = 10e-4\n",
    "x, i = newtonRaphson(x, f4, df4dx, maxIter, difIter)\n",
    "\n",
    "print(\"\\nEn el punto x = \" + str(x) + \" alcanzado en la iteración \" + str(i) + \" tenemos de error \" + str(np.abs(f4(x))) + '.')\n",
    "\n",
    "# Representamos la función y el punto obtenido.\n",
    "plotGraph([-0.5, 0.5], 50, f4, xLim = [-0.1, 0.1], yLim=[-0.1, 0.1], point=True, p=x)"
   ]
  },
  {
   "cell_type": "markdown",
   "metadata": {},
   "source": [
    "Nota: Realiza 1 iteración en lugar de 0 ya que para calcular la diferencia entre iteraciones es necesario obtener al menos la primera iteración. Después de eso es cuando ya entraría en el bucle, y como ya ha encontrado el punto, no entra."
   ]
  },
  {
   "cell_type": "markdown",
   "metadata": {},
   "source": [
    "## Ejercicio 5"
   ]
  },
  {
   "cell_type": "markdown",
   "metadata": {},
   "source": [
    "#### Utilice las órdenes apropiadas de Python para aproximar todos los puntos donde se anulan las funciones siguientes (si es necesario, represéntelas gráficamente):"
   ]
  },
  {
   "cell_type": "markdown",
   "metadata": {},
   "source": [
    "#### i) $f(x)=x^7-x^4+2$"
   ]
  },
  {
   "cell_type": "code",
   "execution_count": null,
   "metadata": {},
   "outputs": [],
   "source": [
    "def f5_1(x):\n",
    "    return x**7 - x**4 + 2"
   ]
  },
  {
   "cell_type": "markdown",
   "metadata": {},
   "source": [
    "En este caso es fácil ver a simple vista que $f(-1) = 0$.\n",
    "\n",
    "Aun así, representemos la gráfica para ver si hay mas puntos tal que f(x) = 0:"
   ]
  },
  {
   "cell_type": "code",
   "execution_count": null,
   "metadata": {},
   "outputs": [],
   "source": [
    "plotGraph([-1.5, 1.5], 500, f5_1)"
   ]
  },
  {
   "cell_type": "markdown",
   "metadata": {},
   "source": [
    "Por lo que sólo tenemos un punto $x_{0}$ donde $f(x_{0}) = 0$. Podemos calcularlo usando uno de los métodos anteriores. Debido a que el método de la bisección no requiere calcular la derivada, usémoslo en $[-1.5, 0]$:"
   ]
  },
  {
   "cell_type": "code",
   "execution_count": null,
   "metadata": {},
   "outputs": [],
   "source": [
    "a = -1.5\n",
    "b = 0\n",
    "maxIter = 1000\n",
    "tol = 10e-4\n",
    "\n",
    "m, i = biseccion(a, b, f5_1, maxIter, tol)\n",
    "print(\"\\nEn el punto: \" + str(m) + \" alcanzado en la iteración \" + str(i) + \" tenemos de error \" + str(np.abs(f5_1(m))) + '.')\n",
    "\n",
    "# Representamos la función y el punto obtenido.\n",
    "plotGraph([a,b], 50, f5_1, xLim = [-1.1, -0.9], yLim=[-0.5, 0.5], point=True, p=m)"
   ]
  },
  {
   "cell_type": "markdown",
   "metadata": {},
   "source": [
    "#### ii) $f(x)=x^7+\\cos  x-3$."
   ]
  },
  {
   "cell_type": "code",
   "execution_count": null,
   "metadata": {},
   "outputs": [],
   "source": [
    "def f5_2(x):\n",
    "    return x**7 + np.cos(x) - 3"
   ]
  },
  {
   "cell_type": "markdown",
   "metadata": {},
   "source": [
    "Representemos la gráfica:"
   ]
  },
  {
   "cell_type": "code",
   "execution_count": null,
   "metadata": {},
   "outputs": [],
   "source": [
    "plotGraph([-1.5, 1.5], 500, f5_2)"
   ]
  },
  {
   "cell_type": "markdown",
   "metadata": {},
   "source": [
    "En este caso podemos ver como la solución está en $[1,1.5]$, por lo que apliquemos el método de la bisección a dicho intervalo."
   ]
  },
  {
   "cell_type": "code",
   "execution_count": null,
   "metadata": {},
   "outputs": [],
   "source": [
    "a = 1\n",
    "b = 1.5\n",
    "maxIter = 1000\n",
    "tol = 10e-4\n",
    "\n",
    "m, i = biseccion(a, b, f5_2, maxIter, tol)\n",
    "print(\"\\nEn el punto: \" + str(m) + \" alcanzado en la iteración \" + str(i) + \" tenemos de error \" + str(np.abs(f5_2(m))) + '.')\n",
    "\n",
    "# Representamos la función y el punto obtenido.\n",
    "plotGraph([a,b], 50, f5_2, xLim = [1, 1.25], yLim=[-0.5, 0.5], point=True, p=m)"
   ]
  },
  {
   "cell_type": "markdown",
   "metadata": {},
   "source": [
    "## Ejercicio 6"
   ]
  },
  {
   "cell_type": "markdown",
   "metadata": {},
   "source": [
    "#### Aplicar los métodos de aceleración de la convergencia de Aitken y Steffensen (según los apuntes) a las sucesiones obtenidas para los distintos métodos programados en esta práctica y comparar los resultados. Para aplicar el método de aceleración de Steffensen, recuerde que para transformar cualquier ecuación de la forma  $ f(x)=0 $  en un problema de puntos fijos  $ g(x)=x $, la forma más simple puede ser definir  $g(x)=x \\pm f(x)$."
   ]
  },
  {
   "cell_type": "code",
   "execution_count": null,
   "metadata": {},
   "outputs": [],
   "source": [
    "def aceleracion(x, f, maxIter, tol):\n",
    "    x = np.array([x])\n",
    "    x = np.insert(x, 1, f(x[0]))\n",
    "    aitken = np.array(['-','-', '-'])\n",
    "    data = np.array([[x[0], '-', '-'], [x[1], '-', '-']])\n",
    "    \n",
    "    i = 2\n",
    "\n",
    "    while i < maxIter and np.abs(x[i-1]-x[i-2]) > tol:\n",
    "        x = np.insert(x, i, f(x[i-1]))\n",
    "        punto = x[i-2] - (x[i-1]-x[i-2])**2/(x[i]-2*x[i-1]+x[i-2])\n",
    "        aitken = np.insert(aitken, i, punto)\n",
    "        data = np.insert(data, i, [x[i], punto, '-'], axis = 0)\n",
    "        \n",
    "        if i % 3 == 2:\n",
    "            s_0 = punto\n",
    "            s_1 = f(s_0)\n",
    "            s_2 = f(s_1)\n",
    "            data[i][2] = s_0 - (s_1-s_0)**2/(s_2-2*s_1+s_0)\n",
    "        \n",
    "        i += 1\n",
    "                \n",
    "    df = pd.DataFrame(data, columns = ['g','Aitken', 'Steffensen'])\n",
    "    print(df)\n",
    "    \n",
    "    return data\n"
   ]
  },
  {
   "cell_type": "markdown",
   "metadata": {},
   "source": [
    "En el ejercicio 1 teníamos $0 = x^{3} + 4x^{2} - 10 \\Rightarrow g(x) = x = x^{3} + 4x^{2} + x - 10$.\n",
    "\n",
    "Por el ejercicio 1, sabemos que el punto fijo es aproximadamente 1.363281. Como $g'(x) = 3x^{2} + 8x \\Rightarrow |g'(1.363281)| > 1 \\Rightarrow$ No tenemos asegurada la convergencia."
   ]
  },
  {
   "cell_type": "code",
   "execution_count": null,
   "metadata": {},
   "outputs": [],
   "source": [
    "def g1(x):\n",
    "    return x**3 + 4*x**2 + x - 10\n",
    "\n",
    "x = 1.3652\n",
    "maxIter = 100\n",
    "tol = 1e-5\n",
    "\n",
    "data = aceleracion(x, g1, maxIter, tol)"
   ]
  },
  {
   "cell_type": "markdown",
   "metadata": {},
   "source": [
    "En el ejercicio 2 teníamos $x^{3} = 25 \\Rightarrow x = g(x) = x^{3} + x - 25$.\n",
    "\n",
    "El punto fijo es aproximadamente 2.921875. Como $g'(x) = 3x^{2} + 1 \\Rightarrow |g'(2.921875)| > 1 \\Rightarrow$ No tenemos asegurada la convergencia."
   ]
  },
  {
   "cell_type": "code",
   "execution_count": null,
   "metadata": {},
   "outputs": [],
   "source": [
    "def g2(x):\n",
    "    return x**3 + x - 25\n",
    "\n",
    "x = 2.5\n",
    "\n",
    "data = aceleracion(x, g2, maxIter, tol)"
   ]
  },
  {
   "cell_type": "markdown",
   "metadata": {},
   "source": [
    "En el apartado 1 del ejercicio 3 teníamos $x^{3}-x-1=0 \\Rightarrow x = g(x) = x^{3} - 1$.\n",
    "\n",
    "El punto fijo es aproximadamente 1.3247179572458576. Como $g'(x) = 3x^{3} \\Rightarrow |g'(1.3247179572458576)| > 1 \\Rightarrow$ No tenemos asegurada la convergencia."
   ]
  },
  {
   "cell_type": "code",
   "execution_count": null,
   "metadata": {},
   "outputs": [],
   "source": [
    "def g3_1(x):\n",
    "    return x**3 - 1\n",
    "\n",
    "x = 1.5\n",
    "\n",
    "data = aceleracion(x, g3_1, maxIter, tol)"
   ]
  },
  {
   "cell_type": "markdown",
   "metadata": {},
   "source": [
    "En el apartado 2 del ejercicio 3 teníamos $3x = 2 + x^{2} - e^{x} \\Rightarrow x = g(x) = \\frac{2 + x^{2} - e^{x}}{3}$.\n",
    "\n",
    "El punto fijo es aproximadamente 0.25753028543719547. Como $g'(x) = \\frac{2x - e^{x}}{3} \\Rightarrow |g'(0.25753028543719547)| \\approx 0.26 < 1 \\Rightarrow$ Tenemos asegurada la convergencia si tomamos un punto $x_{0}$ lo suficientemente cercano."
   ]
  },
  {
   "cell_type": "code",
   "execution_count": null,
   "metadata": {},
   "outputs": [],
   "source": [
    "def g3_2(x):\n",
    "    return (2 + x**2 - np.e**x)/3\n",
    "\n",
    "x = 0.1\n",
    "tol = 1e-5\n",
    "\n",
    "data = aceleracion(x, g3_2, maxIter, tol)"
   ]
  },
  {
   "cell_type": "markdown",
   "metadata": {},
   "source": [
    "En el apartado 3 del ejercicio 3 teníamos $x^{2} + 10 \\cos(x) + x = 0 \\Rightarrow x = g(x) = -x^{2} - 10 \\cos(x)$.\n",
    "\n",
    "El punto fijo es aproximadamente -3.56233489616107. Como $g'(x) = -2x -10 \\Rightarrow |g'(-3.56233489616107)| > 1 \\Rightarrow$ No tenemos asegurada la convergencia."
   ]
  },
  {
   "cell_type": "code",
   "execution_count": null,
   "metadata": {},
   "outputs": [],
   "source": [
    "def g3_3(x):\n",
    "    return -x**2 - 10 * np.cos(x)\n",
    "\n",
    "x = -np.pi\n",
    "\n",
    "data = aceleracion(x, g3_3, maxIter, tol)"
   ]
  },
  {
   "cell_type": "markdown",
   "metadata": {},
   "source": [
    "En el ejercicio 4 teníamos $f(x)= 3x^{2} + e^{x} - 1 \\Rightarrow x = g(x) = 3x^{2} + e^{x} + x - 1$\n",
    "\n",
    "El punto fijo era 0. Como $g'(x) = 6x + e^{x} + 1 \\Rightarrow |g'(0)| = 2 \\Rightarrow$ No tenemos asegurada la convergencia."
   ]
  },
  {
   "cell_type": "code",
   "execution_count": null,
   "metadata": {},
   "outputs": [],
   "source": [
    "def g4(x):\n",
    "    return 3 * x**2 + np.e**x + x - 1\n",
    "\n",
    "x = 0.5\n",
    "\n",
    "data = aceleracion(x, g4, maxIter, tol)"
   ]
  },
  {
   "cell_type": "markdown",
   "metadata": {},
   "source": [
    "En el apartado 1 del ejercicio 5 teníamos $f(x) = x^{7} - x^{4} + 2 \\Rightarrow x = g(x) = x^{7} - x^{4} + x + 2$.\n",
    "\n",
    "El punto fijo era -1. Como $g'(x) = 7x^{6}-4x^{3}+1 \\Rightarrow |g'(-1)| = 12 > 1 \\Rightarrow$ No tenemos asegurada la convergencia."
   ]
  },
  {
   "cell_type": "code",
   "execution_count": null,
   "metadata": {},
   "outputs": [],
   "source": [
    "def g5_1(x):\n",
    "    return x**7 - x**4 + x + 2\n",
    "\n",
    "x = 0\n",
    "\n",
    "data = aceleracion(x, g5_1, maxIter, tol)"
   ]
  },
  {
   "cell_type": "markdown",
   "metadata": {},
   "source": [
    "En el apartado 2 del ejercicio 7 teníamos $f(x) = x^{7} + \\cos x - 3 \\Rightarrow x = g(x) = x^{7} + x + \\cos x - 3$.\n",
    "\n",
    "El punto fijo era aproximadamente 1.1455078125. Como $g'(x) = 7x^{6} + 1 - \\sin x \\Rightarrow |g'(1.1455078125)| > 1 \\Rightarrow$ No tenemos asegurada la convergencia."
   ]
  },
  {
   "cell_type": "code",
   "execution_count": null,
   "metadata": {},
   "outputs": [],
   "source": [
    "def g5_2(x):\n",
    "    return x**7 + x + np.cos(x) - 3\n",
    "\n",
    "x = 1\n",
    "\n",
    "data = aceleracion(x, g5_2, maxIter, tol)"
   ]
  },
  {
   "cell_type": "markdown",
   "metadata": {},
   "source": [
    "## Ejercicio 7"
   ]
  },
  {
   "cell_type": "markdown",
   "metadata": {},
   "source": [
    "#### Programar el método de Newton-Raphson acelerado, partiendo de cierto $x_0$ adecuado: $$x_{n+1}=x_n - m\\frac{f(x_n)}{f'(x_n)}, \\quad n=0,1,2,\\ldots$$ para el caso de una raíz múltiple (de multiplicidad $m\\in\\mathbb{N}$) de una ecuación del tipo $f(x)=0$ y comparar los resultados con los que se obtienen mediante el empleo de los métodos de aceleración habituales de Aitken y Steffensen (según los apuntes)."
   ]
  },
  {
   "cell_type": "markdown",
   "metadata": {},
   "source": [
    "Tomamos como función $f(x) = (x-1)^{2}(x+2) = x^{3} - 3x + 2$. Aplicamos Newton-Raphson acelerado:"
   ]
  },
  {
   "cell_type": "code",
   "execution_count": null,
   "metadata": {},
   "outputs": [],
   "source": [
    "def newtonRaphsonAcelerado(x, f, dfdx, m, maxIter, difIter):\n",
    "    data = np.array([[0, x, f(x), '-']])\n",
    "    \n",
    "    xOld = x\n",
    "    x -= f(x)/dfdx(x)\n",
    "    i = 1\n",
    "    \n",
    "    data = np.insert(data, i, [i, x, f(x), np.abs(f(x) - f(xOld))], axis=0)\n",
    "    \n",
    "    while i < maxIter and np.abs(f(x) - f(xOld)) > difIter:        \n",
    "        xOld = x\n",
    "        x -= m * f(x)/dfdx(x)\n",
    "        \n",
    "        data = np.insert(data, i+1, [i+1, x, f(x), np.abs(f(x) - f(xOld))], axis=0)\n",
    "        \n",
    "        i += 1\n",
    "        \n",
    "    df = pd.DataFrame(data, columns = ['Iteración','x', 'f(x)', 'Diferencia entre iteraciones'])\n",
    "    print(df.to_string(index=False))\n",
    "    return x, i\n",
    "\n",
    "def f(x):\n",
    "    return (x - 1)**2 * (x + 2)\n",
    "\n",
    "def dfdx(x):\n",
    "    return 3 * x**2 - 3\n",
    "\n",
    "x = 10\n",
    "maxIter = 1000\n",
    "difIter = 10e-10\n",
    "\n",
    "x, i = newtonRaphsonAcelerado(x, f, dfdx, 3, maxIter, difIter)"
   ]
  },
  {
   "cell_type": "markdown",
   "metadata": {},
   "source": [
    "Para la aceleración de Aitken y Steffen, tomamos la función $x = g(x) = x^{3} - 2x + 2$.\n",
    "\n",
    "El punto fijo es en 1. Como $g'(x) = 3x^{2}-2 \\Rightarrow |g'(1)| = 1 \\Rightarrow$ No tenemos asegurada la convergencia."
   ]
  },
  {
   "cell_type": "code",
   "execution_count": null,
   "metadata": {},
   "outputs": [],
   "source": [
    "def g(x):\n",
    "    return x**3 - 2 * x + 2\n",
    "\n",
    "x = 10\n",
    "tol = 10e-3\n",
    "\n",
    "data = aceleracion(x, g, maxIter, tol)"
   ]
  },
  {
   "cell_type": "markdown",
   "metadata": {},
   "source": [
    "## Ejercicio 8"
   ]
  },
  {
   "cell_type": "markdown",
   "metadata": {},
   "source": [
    "#### 8.- Programar el conocido algoritmo de Horner para la evaluación de un polinomio y emplearlo de forma reiterativa para el cálculo del desarrollo de Taylor de orden $ n$ de un polinomio cualquiera. Aprovecharlo también para programar una versión especial del método de Newton-Raphson para polinomios, evaluando tanto  $ p(x_k ) $ como $ p'(x_k)$ mediante el citado algoritmo y aplicarlo para aproximar alguna de las raíces reales del siguiente polinomio\n",
    "\n",
    "#### $$p(x)=d_0 + d_1 x + d_2 x^2 + d_3 x^3+ d_4 x^4 + d_5 x^5 + d_6 x^6 + d_7 x^7 $$\n",
    "#### (siendo $d_0, d_1, \\ldots, d_7$ los dígitos ordenados de su DNI, pasaporte o tarjeta de residente).\n",
    "\n",
    "#### Programar y construir también una sucesión de Sturm para dicho polinomio."
   ]
  },
  {
   "cell_type": "markdown",
   "metadata": {},
   "source": [
    "$$p(x) = 7 + 6x + 5x^{2} + 9x^{3} + 1x^{4} + 2x^{5} + 7x^{6} + 0x^{7}$$"
   ]
  },
  {
   "cell_type": "code",
   "execution_count": null,
   "metadata": {},
   "outputs": [],
   "source": [
    "def p(x):\n",
    "    return 7 + 6*x + 5*x**2 + 9*x**3 + 1*x**4 + 2*x**5 + 7*x**6\n",
    "\n",
    "# a = a_{0} + a_{1}x + a_{2}x^2 + ... + a_{n}x_{n}\n",
    "def Horner(x, a):\n",
    "    n = len(a)\n",
    "    b = np.zeros(n)\n",
    "    b[n-1] = a[n-1]\n",
    "    for i in range(1,n):\n",
    "        b[n-i-1] = a[n-i-1] + x * b[n-i]\n",
    "        \n",
    "    c = np.zeros(n-1)\n",
    "    c[n-2] = b[n-1]\n",
    "    for i in range(2,n):\n",
    "        c[n-i-1] = b[n-i] + x * c[n-i]\n",
    "        \n",
    "    return b, c\n",
    "\n",
    "def HornerMethod(x, p, a, maxIter, difIter):\n",
    "    data = np.array([[0, x, p(x), '-']])\n",
    "    \n",
    "    xOld = x\n",
    "    b,c = Horner(x,a)\n",
    "    x -= b[0]/c[0]\n",
    "    i = 1\n",
    "    \n",
    "    data = np.insert(data, i, [i, x, p(x), np.abs(p(x) - p(xOld))], axis=0)\n",
    "    \n",
    "    while i < maxIter and np.abs(p(x) - p(xOld)) > difIter:        \n",
    "        xOld = x\n",
    "        b, c = Horner(x, a)\n",
    "        x -= b[0]/c[0]\n",
    "        \n",
    "        data = np.insert(data, i+1, [i+1, x, p(x), np.abs(p(x) - p(xOld))], axis=0)\n",
    "        \n",
    "        i += 1\n",
    "        \n",
    "    df = pd.DataFrame(data, columns = ['Iteración','x', 'p(x)', 'Diferencia entre iteraciones'])\n",
    "    print(df.to_string(index=False))\n",
    "    return x, i\n",
    "\n",
    "\n",
    "a = np.array([7,6,5,9,1,2,7])\n",
    "x, i = HornerMethod(1, p, a, 1000, 1e-3)\n",
    "print('Obtenemos el valor p(x) = ' + str(p(x)) + ' en el punto ' + str(x) + ' en la iteración ' + str(i) + '.')"
   ]
  },
  {
   "cell_type": "markdown",
   "metadata": {},
   "source": [
    "No obtenemos un punto $x_{0}$ tal que $p(x_{0}) = 0$ ya que la función oscila entre las distintas iteraciones.\n",
    "\n",
    "\n",
    "Para el método de Sturm calculamos todos los polinomios (usando Wolfram Alpha):"
   ]
  },
  {
   "cell_type": "code",
   "execution_count": null,
   "metadata": {},
   "outputs": [],
   "source": [
    "def p0(x):\n",
    "    return 7 + 6*x + 5*x**2 + 9*x**3 + x**4 + 2*x**5 + 7*x**6\n",
    "    \n",
    "def p1(x):\n",
    "    return 6 + 10*x + 27*x**2 + 4*x**3 + 10*x**4 + 42*x**5\n",
    "\n",
    "def p2(x):\n",
    "    return -(152/21) - (970/63)*x - (185/42)*x**2 - (587/126)*x**3 - (46/63)*x**4\n",
    "\n",
    "def p3(x):\n",
    "    return -(1356012)/529 - (5325579/1058)*x - (2952369/4232)*x**2 - (5910597/4232)*x**3\n",
    "\n",
    "def p4(x):\n",
    "    return (118849841752/184842099981) + (4164182200/2934001587)*x + (68700821612/184842099981)*x**2\n",
    "\n",
    "def p5(x):\n",
    "    return (23605356132874096723989/2230530666429038884) + (11330724811558602392712/557632666607259721)*x\n",
    "\n",
    "def p6(x):\n",
    "    return (4259912028904016476603046543705/926090068359004860015472693311232)\n",
    "\n",
    "def Sturm(x):\n",
    "    array = np.array(['-','-','-','-','-','-','-'])\n",
    "    \n",
    "    if p0(x) > 0:\n",
    "        array[0] = '+'\n",
    "        \n",
    "    if p1(x) > 0:\n",
    "        array[1] = '+'\n",
    "        \n",
    "    if p2(x) > 0:\n",
    "        array[2] = '+'\n",
    "        \n",
    "    if p3(x) > 0:\n",
    "        array[3] = '+'\n",
    "        \n",
    "    if p4(x) > 0:\n",
    "        array[4] = '+'\n",
    "        \n",
    "    if p5(x) > 0:\n",
    "        array[5] = '+'\n",
    "        \n",
    "    if p6(x) > 0:\n",
    "        array[6] = '+'\n",
    "        \n",
    "    print('En ' + str(x) + ':')\n",
    "    print(array)\n",
    "        \n",
    "\n",
    "    \n",
    "array = Sturm(-2)\n",
    "array = Sturm(-1)\n",
    "array = Sturm(0)\n",
    "array = Sturm(1)\n",
    "array = Sturm(2)"
   ]
  },
  {
   "cell_type": "markdown",
   "metadata": {},
   "source": [
    "Como $max\\{\\frac{a_{i}}{a_{6}}\\} = max\\{\\frac{a_{i}}{7}\\} = 1$, entonces las raíces están en $[-2,2]$.\n",
    "\n",
    "Tenemos:\n",
    "\n",
    "    · 4 cambios de signo en -2.\n",
    "    · 4 cambios de signo en -1.\n",
    "    · 2 cambios de signo en 0.\n",
    "    · 2 cambios de signo en 1.\n",
    "    · 2 cambios de signo en 2.\n",
    "\n",
    "Por lo que hay 2 raíces en $[-1,0]$."
   ]
  },
  {
   "cell_type": "code",
   "execution_count": null,
   "metadata": {},
   "outputs": [],
   "source": []
  }
 ],
 "metadata": {
  "kernelspec": {
   "display_name": "Python 3",
   "language": "python",
   "name": "python3"
  },
  "language_info": {
   "codemirror_mode": {
    "name": "ipython",
    "version": 3
   },
   "file_extension": ".py",
   "mimetype": "text/x-python",
   "name": "python",
   "nbconvert_exporter": "python",
   "pygments_lexer": "ipython3",
   "version": "3.8.5"
  }
 },
 "nbformat": 4,
 "nbformat_minor": 4
}
