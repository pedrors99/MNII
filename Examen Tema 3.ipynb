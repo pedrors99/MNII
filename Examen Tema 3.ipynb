{
 "cells": [
  {
   "cell_type": "markdown",
   "metadata": {},
   "source": [
    "# Examen Tema 3"
   ]
  },
  {
   "cell_type": "markdown",
   "metadata": {},
   "source": [
    "#### Nombre: Pedro Ramos Suárez\n",
    "#### DNI: 76591270M"
   ]
  },
  {
   "cell_type": "markdown",
   "metadata": {},
   "source": [
    "Importamos todas las bibliotecas que vamos a usar:"
   ]
  },
  {
   "cell_type": "code",
   "execution_count": 1,
   "metadata": {},
   "outputs": [],
   "source": [
    "import numpy as np\n",
    "import sympy as sp\n",
    "import matplotlib.pyplot as plt\n",
    "from IPython.display import display\n",
    "\n",
    "%matplotlib inline"
   ]
  },
  {
   "cell_type": "markdown",
   "metadata": {},
   "source": [
    "Definimos variables y la función:"
   ]
  },
  {
   "cell_type": "code",
   "execution_count": 2,
   "metadata": {},
   "outputs": [],
   "source": [
    "a = 0\n",
    "b = 1\n",
    "ya = 1"
   ]
  },
  {
   "cell_type": "code",
   "execution_count": 3,
   "metadata": {},
   "outputs": [],
   "source": [
    "x, y0, t = sp.symbols('x, y_0, t')\n",
    "\n",
    "def f(t, x):\n",
    "    return (t-x)/2"
   ]
  },
  {
   "cell_type": "code",
   "execution_count": 4,
   "metadata": {},
   "outputs": [
    {
     "data": {
      "text/latex": [
       "$\\displaystyle - \\frac{t}{2} + \\frac{y{\\left(t \\right)}}{2} + \\frac{d}{d t} y{\\left(t \\right)} = 0$"
      ],
      "text/plain": [
       "Eq(-t/2 + y(t)/2 + Derivative(y(t), t), 0)"
      ]
     },
     "metadata": {},
     "output_type": "display_data"
    }
   ],
   "source": [
    "y = sp.Function('y')\n",
    "edo = y(t).diff() - f(t, y(t))\n",
    "display(sp.Eq(edo, 0))"
   ]
  },
  {
   "cell_type": "code",
   "execution_count": 5,
   "metadata": {},
   "outputs": [
    {
     "data": {
      "text/latex": [
       "$\\displaystyle y{\\left(t \\right)} = \\left(C_{1} + \\left(t - 2\\right) e^{\\frac{t}{2}}\\right) e^{- \\frac{t}{2}}$"
      ],
      "text/plain": [
       "Eq(y(t), (C1 + (t - 2)*exp(t/2))*exp(-t/2))"
      ]
     },
     "metadata": {},
     "output_type": "display_data"
    }
   ],
   "source": [
    "edo_sol = sp.dsolve(edo)\n",
    "display(edo_sol)"
   ]
  },
  {
   "cell_type": "code",
   "execution_count": 6,
   "metadata": {},
   "outputs": [
    {
     "data": {
      "text/latex": [
       "$\\displaystyle y_{0} = C_{1} - 2$"
      ],
      "text/plain": [
       "Eq(y_0, C1 - 2)"
      ]
     },
     "metadata": {},
     "output_type": "display_data"
    }
   ],
   "source": [
    "ics = {y(0): y0}\n",
    "CI_eq = sp.Eq(edo_sol.lhs.subs(t, 0).subs(ics),edo_sol.rhs.subs(t, 0))\n",
    "display(CI_eq)"
   ]
  },
  {
   "cell_type": "code",
   "execution_count": 7,
   "metadata": {},
   "outputs": [
    {
     "data": {
      "text/latex": [
       "$\\displaystyle y{\\left(t \\right)} = \\left(y_{0} + \\left(t - 2\\right) e^{\\frac{t}{2}} + 2\\right) e^{- \\frac{t}{2}}$"
      ],
      "text/plain": [
       "Eq(y(t), (y_0 + (t - 2)*exp(t/2) + 2)*exp(-t/2))"
      ]
     },
     "execution_count": 7,
     "metadata": {},
     "output_type": "execute_result"
    }
   ],
   "source": [
    "CI_sol = sp.solve(CI_eq)\n",
    "edo_sol.subs(CI_sol[0])"
   ]
  },
  {
   "cell_type": "code",
   "execution_count": 8,
   "metadata": {},
   "outputs": [
    {
     "data": {
      "text/latex": [
       "$\\displaystyle \\left(\\left(t - 2\\right) e^{\\frac{t}{2}} + 3\\right) e^{- \\frac{t}{2}}$"
      ],
      "text/plain": [
       "((t - 2)*exp(t/2) + 3)*exp(-t/2)"
      ]
     },
     "metadata": {},
     "output_type": "display_data"
    }
   ],
   "source": [
    "sol_exacta = edo_sol.rhs.subs(CI_sol[0]).subs({y0:ya})\n",
    "display(sol_exacta)"
   ]
  },
  {
   "cell_type": "markdown",
   "metadata": {},
   "source": [
    "Definimos los 3 métodos que vamos a usar: El método de euler mejorado o del punto medio, el método de euler modificado o de Heun, y el método de Runge-Kutta con 2 evaluaciones:"
   ]
  },
  {
   "cell_type": "code",
   "execution_count": 9,
   "metadata": {},
   "outputs": [],
   "source": [
    "def eulerPuntoMedio(F, x0, y0, xfinal, h):\n",
    "    ''' Método de Euler mejorado o del punto medio para resolver el PVI\n",
    "    RETURNS:\n",
    "        X,Y     = integrate(F, x0, y0, xfinal, N)\n",
    "    PARAMS:\n",
    "        F       = función suplida por el usuario que devuelve \n",
    "                el array F(x,y) = {y'[0],y'[1],...,y'[N-1]}.\n",
    "        x0,y0   = condiciones iniciales \n",
    "        xfinal  = valor final de la variable x\n",
    "        N       = número de nodos\n",
    "    '''\n",
    "    N = int((xfinal - x0) / h)\n",
    "    X = np.linspace(x0, xfinal, N+1)\n",
    "    Y = [y0];\n",
    "\n",
    "    for n in range(N):\n",
    "        Y.append(Y[n] + h * F(X[n] + h / 2, Y[n] + h / 2 * F(X[n], Y[n])))\n",
    "\n",
    "    return np.array(X), np.array(Y)\n",
    "\n",
    "def eulerHeun(F, x0, y0, xfinal, h):\n",
    "    ''' Método de Euler modificado o de Heun para resolver el PVI\n",
    "    RETURNS:\n",
    "        X,Y     = integrate(F, x0, y0, xfinal, N)\n",
    "    PARAMS:\n",
    "        F       = función suplida por el usuario que devuelve \n",
    "                el array F(x,y) = {y'[0],y'[1],...,y'[N-1]}.\n",
    "        x0,y0   = condiciones iniciales \n",
    "        xfinal  = valor final de la variable x\n",
    "        N       = número de nodos\n",
    "    '''\n",
    "    N = int((xfinal - x0) / h)\n",
    "    X = np.linspace(x0, xfinal, N+1)\n",
    "    Y = [y0];\n",
    "    y1 = sp.Symbol('y1')\n",
    "\n",
    "    for n in range(N):\n",
    "        Y.append(Y[n] + h / 2 * ( F(X[n], Y[n]) + F(X[n+1], Y[n] + h * F(X[n], Y[n]))))\n",
    "    return np.array(X), np.array(Y)\n",
    "\n",
    "def rungeKutta2(F, x0, y0, xfinal, h):\n",
    "    ''' Método de Runge-Kutta de cuarto orden para resolver\n",
    "        el problema de valores iniciales {y}' = {F(x,{y})}, \n",
    "        donde    {y} = {y[0],y[1],...y[N-1]}.\n",
    "        X,Y    = integrate(F,x0,y0,xfinal,h).\n",
    "        x0,y0  = condiciones iniciales\n",
    "        xfinal = valor final de x\n",
    "        N      = número de subintervalos de la partición\n",
    "        h      = incremento de x usado en la integración\n",
    "        F      = función suplida por el usuario que devuelve el\n",
    "                array F(x,y) = {y'[0],y'[1],...,y'[N-1]}.\n",
    "    '''\n",
    "\n",
    "    def RK2(F, xn, yn, h):\n",
    "        K1 = F(xn, yn)\n",
    "        K2 = F(xn + 2 / 3 * h, yn + 2 / 3 * h * K1)\n",
    "        return (K1 + 3 * K2) / 4\n",
    "    \n",
    "    N = int((xfinal - x0) / h)\n",
    "    X = np.linspace(x0, xfinal, N + 1)\n",
    "    Y = [y0];\n",
    "    for n in range(N):\n",
    "        Y.append(Y[n] + h * RK2(F, X[n], Y[n], h))\n",
    "    return np.array(X), np.array(Y)"
   ]
  },
  {
   "cell_type": "markdown",
   "metadata": {},
   "source": [
    "Representamos las gráficas con sus errores:"
   ]
  },
  {
   "cell_type": "code",
   "execution_count": 15,
   "metadata": {},
   "outputs": [
    {
     "data": {
      "image/png": "[encoded data removed]",
      "text/plain": [
       "<Figure size 576x288 with 1 Axes>"
      ]
     },
     "metadata": {
      "needs_background": "light"
     },
     "output_type": "display_data"
    },
    {
     "name": "stdout",
     "output_type": "stream",
     "text": [
      "Error de Euler Mejorado o del punto medio: 0.000393623839967439 \n",
      "Error de Euler modificado o de Heun: 0.000393623839967328 \n",
      "Error de Runge-Kutta de 2 evaluaciones: 0.000393623839967439.\n",
      "\n",
      "El mejor método es el de Heun.\n"
     ]
    }
   ],
   "source": [
    "h = 0.1\n",
    "nodos = int((b - a) / h)\n",
    "\n",
    "# Aplicamos todos los métodos\n",
    "xx = np.linspace(a, b, nodos + 1)\n",
    "yy = np.array([sol_exacta.subs({t:xx[n]}) for n in range(len(xx))])\n",
    "xxPuntoMedio, yyPuntoMedio = eulerPuntoMedio(f, a, ya, b, h)\n",
    "xxHeun, yyHeun = eulerHeun(f, a, ya, b, h)\n",
    "xxRungeKutta, yyRungeKutta = rungeKutta2(f, a, ya, b, h)\n",
    "\n",
    "# Gráfica\n",
    "fig, ax = plt.subplots(figsize = (8, 4))\n",
    "ax.set_title(r\"Sol. exacta:  $y(t)=%s$\" % sp.latex(sol_exacta), fontsize=18)\n",
    "ax.set_xlabel(r\"$t$\", fontsize=18)\n",
    "ax.set_ylabel(r\"$y$\", fontsize=18)\n",
    "\n",
    "ax.plot(xxPuntoMedio, yyPuntoMedio, 'b-.o', label='Euler mejorado o del punto medio', markersize=5)\n",
    "ax.plot(xxHeun, yyHeun, 'g-.o', label='Euler modificado o de Heun', markersize=5)\n",
    "ax.plot(xxHeun, yyHeun, 'r-.o', label='Runge-Kutta de 2 evaluaciones', markersize=5)\n",
    "ax.plot(xx, yy, 'y', label='Real') # Solución real\n",
    "\n",
    "ax.legend(bbox_to_anchor=(1.05, 1), loc='upper left')\n",
    "plt.show()\n",
    "\n",
    "# Errores\n",
    "errorPuntoMedio = abs(yy - yyPuntoMedio).max()\n",
    "errorHeun = abs(yy - yyHeun).max()\n",
    "errorRungeKutta = abs(yy - yyRungeKutta).max()\n",
    "print('Error de Euler Mejorado o del punto medio: {} \\nError de Euler modificado o de Heun: {} \\nError de Runge-Kutta de 2 evaluaciones: {}.'.format(errorPuntoMedio, errorHeun, errorRungeKutta))\n",
    "\n",
    "# Debido a que los errores son muy parecidos, hacemos la comprobación con Python para tener mayor exactitud\n",
    "if errorPuntoMedio < errorHeun and errorPuntoMedio < errorRungeKutta:\n",
    "    print('\\nEl mejor método es el del punto medio.')\n",
    "elif errorHeun < errorPuntoMedio and errorHeun < errorRungeKutta:\n",
    "    print('\\nEl mejor método es el de Heun.')\n",
    "elif errorRungeKutta < errorPuntoMedio and errorRungeKutta < errorHeun:\n",
    "    print('\\nEl mejor método es el de Runge-Kutta.')\n",
    "else:\n",
    "    print('\\nNo puedo determinar el mejor método.')"
   ]
  },
  {
   "cell_type": "markdown",
   "metadata": {},
   "source": [
    "Como podemos ver, el método con menor error es el de Heun, que es ligeramente menor que el del punto medio y que el de Runge-Kutta con 2 evaluaciones, por lo que el mejor método a usar sería el de Heun."
   ]
  },
  {
   "cell_type": "code",
   "execution_count": null,
   "metadata": {},
   "outputs": [],
   "source": []
  }
 ],
 "metadata": {
  "kernelspec": {
   "display_name": "Python 3",
   "language": "python",
   "name": "python3"
  },
  "language_info": {
   "codemirror_mode": {
    "name": "ipython",
    "version": 3
   },
   "file_extension": ".py",
   "mimetype": "text/x-python",
   "name": "python",
   "nbconvert_exporter": "python",
   "pygments_lexer": "ipython3",
   "version": "3.8.5"
  }
 },
 "nbformat": 4,
 "nbformat_minor": 4
}
